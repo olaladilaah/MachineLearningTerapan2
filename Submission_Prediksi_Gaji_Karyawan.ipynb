{
  "cells": [
    {
      "cell_type": "markdown",
      "metadata": {
        "id": "f-vWobfEPfIv"
      },
      "source": [
        "Machine Learning Terapan - Adilah Widiasti - B244035E\n",
        "\n",
        "*Dataset yang digunakan pada proyek ini:*  \n",
        "https://www.kaggle.com/datasets/rubydoby/years-of-experience-and-employees-salary"
      ]
    },
    {
      "cell_type": "markdown",
      "metadata": {
        "id": "bJFn9CnNlCaP"
      },
      "source": [
        "# **Predictive Analytics - Prediksi Gaji Karyawan Berdasarkan Tahun Pengalaman Bekerja**"
      ]
    },
    {
      "cell_type": "markdown",
      "metadata": {
        "id": "y-9u_P8TlZCC"
      },
      "source": [
        "## **Deskripsi Proyek**"
      ]
    },
    {
      "cell_type": "markdown",
      "metadata": {
        "id": "e0_rgssnn_GH"
      },
      "source": [
        "Proyek ini berfokus pada topik ekonomi dan bisnis, dengan penekanan pada proses perekrutan karyawan baru di perusahaan. Di sini, perusahaan berusaha menentukan kisaran gaji yang sesuai dengan pengalaman kerja calon pelamar. Untuk memperoleh hasil yang lebih akurat, perusahaan berencana untuk menguji dua model machine learning dan memilih model yang memberikan prediksi paling akurat."
      ]
    },
    {
      "cell_type": "markdown",
      "metadata": {
        "id": "Gh5yvtaJm-dn"
      },
      "source": [
        "## **1. Import Library yang Dibutuhkan**"
      ]
    },
    {
      "cell_type": "code",
      "execution_count": 1,
      "metadata": {
        "id": "f-p-eN3ZTPjK"
      },
      "outputs": [],
      "source": [
        "# Install public API Kaggle\n",
        "!pip install -q kaggle"
      ]
    },
    {
      "cell_type": "code",
      "execution_count": 2,
      "metadata": {
        "id": "hgrSrXHlTViE"
      },
      "outputs": [],
      "source": [
        "# Mengimpor pustaka yang diperlukan untuk memproses dan memvisualisasikan data\n",
        "import numpy as np  # Untuk operasi numerik\n",
        "import pandas as pd  # Untuk manipulasi data\n",
        "import matplotlib.pyplot as plt  # Untuk visualisasi data\n",
        "import seaborn as sns  # Untuk visualisasi yang lebih menarik\n",
        "%matplotlib inline  # Menampilkan grafik di dalam notebook\n",
        "\n",
        "# Mengimpor pustaka untuk persiapan data\n",
        "from sklearn.preprocessing import StandardScaler  # Untuk normalisasi data\n",
        "\n",
        "# Mengimpor pustaka untuk membagi dataset menjadi data latih dan data uji\n",
        "from sklearn.model_selection import train_test_split  # Untuk membagi dataset\n",
        "\n",
        "# Mengimpor metrik untuk evaluasi model\n",
        "from sklearn.metrics import mean_squared_error  # Untuk menghitung kesalahan kuadrat rata-rata\n",
        "\n",
        "# Mengimpor model yang akan digunakan\n",
        "from sklearn.ensemble import RandomForestRegressor  # Model Random Forest untuk regresi\n",
        "from sklearn.linear_model import LinearRegression  # Model regresi linier"
      ]
    },
    {
      "cell_type": "markdown",
      "metadata": {
        "id": "yaw_pMcznqdO"
      },
      "source": [
        "## **2. Data Understanding**"
      ]
    },
    {
      "cell_type": "markdown",
      "metadata": {
        "id": "Zc_YriaZnr6o"
      },
      "source": [
        "Data Understanding merupakan proses memahami informasi dalam data dan menentukan kualitas dari data tersebut."
      ]
    },
    {
      "cell_type": "markdown",
      "metadata": {
        "id": "_xeG-Br3nzTz"
      },
      "source": [
        "### 2.1 Data Loading"
      ]
    },
    {
      "cell_type": "markdown",
      "metadata": {
        "id": "S5Z-5cLoolPd"
      },
      "source": [
        "Data Loading merupakan tahap untuk memuat dataset yang akan digunakan agar dataset lebih mudah dipahami.             \n",
        "\n",
        "\n",
        "*Dataset yang digunakan pada proyek ini:*  \n",
        "https://www.kaggle.com/datasets/rubydoby/years-of-experience-and-employees-salary"
      ]
    },
    {
      "cell_type": "code",
      "execution_count": 3,
      "metadata": {
        "colab": {
          "base_uri": "https://localhost:8080/"
        },
        "id": "KKUmSZz3TYiT",
        "outputId": "5dc27cf4-fe06-4d58-d6a9-25767584d615"
      },
      "outputs": [
        {
          "name": "stdout",
          "output_type": "stream",
          "text": [
            "Downloading years-of-experience-and-employees-salary.zip to /content\n",
            "\r  0% 0.00/3.32k [00:00<?, ?B/s]\n",
            "\r100% 3.32k/3.32k [00:00<00:00, 3.21MB/s]\n",
            "Archive:  /content/years-of-experience-and-employees-salary.zip\n",
            "  inflating: employee_salaries.csv   \n"
          ]
        }
      ],
      "source": [
        "# Menghapus direktori .kaggle yang ada dan membuat direktori baru untuk menyimpan kredensial Kaggle\n",
        "!rm -rf ~/.kaggle && mkdir -p ~/.kaggle  # -p untuk menghindari error jika direktori sudah ada\n",
        "\n",
        "# Memindahkan file kaggle.json dari direktori kerja saat ini ke dalam direktori .kaggle\n",
        "!mv kaggle.json ~/.kaggle/kaggle.json  # Memindahkan file kredensial ke lokasi yang tepat\n",
        "\n",
        "# Mengatur izin akses file agar hanya pemilik yang dapat membacanya\n",
        "!chmod 600 ~/.kaggle/kaggle.json  # Mengatur izin file untuk keamanan\n",
        "\n",
        "# Mengunduh dataset dari Kaggle menggunakan API\n",
        "!kaggle datasets download -d rubydoby/years-of-experience-and-employees-salary  # Mengunduh dataset yang diinginkan\n",
        "\n",
        "# Mengekstrak file zip yang diunduh ke dalam direktori saat ini\n",
        "!unzip -o /content/years-of-experience-and-employees-salary.zip  # -o untuk menimpa file yang ada jika diperlukan"
      ]
    },
    {
      "cell_type": "code",
      "execution_count": 4,
      "metadata": {
        "colab": {
          "base_uri": "https://localhost:8080/",
          "height": 424
        },
        "id": "0ieD4JwVTmdW",
        "outputId": "7b8b7c61-1d0c-4612-ef3b-0c550156652e"
      },
      "outputs": [
        {
          "data": {
            "text/html": [
              "\n",
              "  <div id=\"df-ac0bd409-f48d-4ad1-bf3d-5557b50e44c2\">\n",
              "    <div class=\"colab-df-container\">\n",
              "      <div>\n",
              "<style scoped>\n",
              "    .dataframe tbody tr th:only-of-type {\n",
              "        vertical-align: middle;\n",
              "    }\n",
              "\n",
              "    .dataframe tbody tr th {\n",
              "        vertical-align: top;\n",
              "    }\n",
              "\n",
              "    .dataframe thead th {\n",
              "        text-align: right;\n",
              "    }\n",
              "</style>\n",
              "<table border=\"1\" class=\"dataframe\">\n",
              "  <thead>\n",
              "    <tr style=\"text-align: right;\">\n",
              "      <th></th>\n",
              "      <th>Years of Experience</th>\n",
              "      <th>Salary</th>\n",
              "    </tr>\n",
              "  </thead>\n",
              "  <tbody>\n",
              "    <tr>\n",
              "      <th>0</th>\n",
              "      <td>8.0</td>\n",
              "      <td>85000.0</td>\n",
              "    </tr>\n",
              "    <tr>\n",
              "      <th>1</th>\n",
              "      <td>20.0</td>\n",
              "      <td>482000.0</td>\n",
              "    </tr>\n",
              "    <tr>\n",
              "      <th>2</th>\n",
              "      <td>12.0</td>\n",
              "      <td>112000.0</td>\n",
              "    </tr>\n",
              "    <tr>\n",
              "      <th>3</th>\n",
              "      <td>11.0</td>\n",
              "      <td>95000.0</td>\n",
              "    </tr>\n",
              "    <tr>\n",
              "      <th>4</th>\n",
              "      <td>16.0</td>\n",
              "      <td>230000.0</td>\n",
              "    </tr>\n",
              "    <tr>\n",
              "      <th>...</th>\n",
              "      <td>...</td>\n",
              "      <td>...</td>\n",
              "    </tr>\n",
              "    <tr>\n",
              "      <th>1495</th>\n",
              "      <td>9.0</td>\n",
              "      <td>88000.0</td>\n",
              "    </tr>\n",
              "    <tr>\n",
              "      <th>1496</th>\n",
              "      <td>18.0</td>\n",
              "      <td>303000.0</td>\n",
              "    </tr>\n",
              "    <tr>\n",
              "      <th>1497</th>\n",
              "      <td>8.0</td>\n",
              "      <td>86000.0</td>\n",
              "    </tr>\n",
              "    <tr>\n",
              "      <th>1498</th>\n",
              "      <td>11.0</td>\n",
              "      <td>94000.0</td>\n",
              "    </tr>\n",
              "    <tr>\n",
              "      <th>1499</th>\n",
              "      <td>7.0</td>\n",
              "      <td>90000.0</td>\n",
              "    </tr>\n",
              "  </tbody>\n",
              "</table>\n",
              "<p>1500 rows × 2 columns</p>\n",
              "</div>\n",
              "      <button class=\"colab-df-convert\" onclick=\"convertToInteractive('df-ac0bd409-f48d-4ad1-bf3d-5557b50e44c2')\"\n",
              "              title=\"Convert this dataframe to an interactive table.\"\n",
              "              style=\"display:none;\">\n",
              "        \n",
              "  <svg xmlns=\"http://www.w3.org/2000/svg\" height=\"24px\"viewBox=\"0 0 24 24\"\n",
              "       width=\"24px\">\n",
              "    <path d=\"M0 0h24v24H0V0z\" fill=\"none\"/>\n",
              "    <path d=\"M18.56 5.44l.94 2.06.94-2.06 2.06-.94-2.06-.94-.94-2.06-.94 2.06-2.06.94zm-11 1L8.5 8.5l.94-2.06 2.06-.94-2.06-.94L8.5 2.5l-.94 2.06-2.06.94zm10 10l.94 2.06.94-2.06 2.06-.94-2.06-.94-.94-2.06-.94 2.06-2.06.94z\"/><path d=\"M17.41 7.96l-1.37-1.37c-.4-.4-.92-.59-1.43-.59-.52 0-1.04.2-1.43.59L10.3 9.45l-7.72 7.72c-.78.78-.78 2.05 0 2.83L4 21.41c.39.39.9.59 1.41.59.51 0 1.02-.2 1.41-.59l7.78-7.78 2.81-2.81c.8-.78.8-2.07 0-2.86zM5.41 20L4 18.59l7.72-7.72 1.47 1.35L5.41 20z\"/>\n",
              "  </svg>\n",
              "      </button>\n",
              "      \n",
              "  <style>\n",
              "    .colab-df-container {\n",
              "      display:flex;\n",
              "      flex-wrap:wrap;\n",
              "      gap: 12px;\n",
              "    }\n",
              "\n",
              "    .colab-df-convert {\n",
              "      background-color: #E8F0FE;\n",
              "      border: none;\n",
              "      border-radius: 50%;\n",
              "      cursor: pointer;\n",
              "      display: none;\n",
              "      fill: #1967D2;\n",
              "      height: 32px;\n",
              "      padding: 0 0 0 0;\n",
              "      width: 32px;\n",
              "    }\n",
              "\n",
              "    .colab-df-convert:hover {\n",
              "      background-color: #E2EBFA;\n",
              "      box-shadow: 0px 1px 2px rgba(60, 64, 67, 0.3), 0px 1px 3px 1px rgba(60, 64, 67, 0.15);\n",
              "      fill: #174EA6;\n",
              "    }\n",
              "\n",
              "    [theme=dark] .colab-df-convert {\n",
              "      background-color: #3B4455;\n",
              "      fill: #D2E3FC;\n",
              "    }\n",
              "\n",
              "    [theme=dark] .colab-df-convert:hover {\n",
              "      background-color: #434B5C;\n",
              "      box-shadow: 0px 1px 3px 1px rgba(0, 0, 0, 0.15);\n",
              "      filter: drop-shadow(0px 1px 2px rgba(0, 0, 0, 0.3));\n",
              "      fill: #FFFFFF;\n",
              "    }\n",
              "  </style>\n",
              "\n",
              "      <script>\n",
              "        const buttonEl =\n",
              "          document.querySelector('#df-ac0bd409-f48d-4ad1-bf3d-5557b50e44c2 button.colab-df-convert');\n",
              "        buttonEl.style.display =\n",
              "          google.colab.kernel.accessAllowed ? 'block' : 'none';\n",
              "\n",
              "        async function convertToInteractive(key) {\n",
              "          const element = document.querySelector('#df-ac0bd409-f48d-4ad1-bf3d-5557b50e44c2');\n",
              "          const dataTable =\n",
              "            await google.colab.kernel.invokeFunction('convertToInteractive',\n",
              "                                                     [key], {});\n",
              "          if (!dataTable) return;\n",
              "\n",
              "          const docLinkHtml = 'Like what you see? Visit the ' +\n",
              "            '<a target=\"_blank\" href=https://colab.research.google.com/notebooks/data_table.ipynb>data table notebook</a>'\n",
              "            + ' to learn more about interactive tables.';\n",
              "          element.innerHTML = '';\n",
              "          dataTable['output_type'] = 'display_data';\n",
              "          await google.colab.output.renderOutput(dataTable, element);\n",
              "          const docLink = document.createElement('div');\n",
              "          docLink.innerHTML = docLinkHtml;\n",
              "          element.appendChild(docLink);\n",
              "        }\n",
              "      </script>\n",
              "    </div>\n",
              "  </div>\n",
              "  "
            ],
            "text/plain": [
              "      Years of Experience    Salary\n",
              "0                     8.0   85000.0\n",
              "1                    20.0  482000.0\n",
              "2                    12.0  112000.0\n",
              "3                    11.0   95000.0\n",
              "4                    16.0  230000.0\n",
              "...                   ...       ...\n",
              "1495                  9.0   88000.0\n",
              "1496                 18.0  303000.0\n",
              "1497                  8.0   86000.0\n",
              "1498                 11.0   94000.0\n",
              "1499                  7.0   90000.0\n",
              "\n",
              "[1500 rows x 2 columns]"
            ]
          },
          "execution_count": 4,
          "metadata": {},
          "output_type": "execute_result"
        }
      ],
      "source": [
        "# Membaca file CSV yang berisi data gaji karyawan dan menyimpannya dalam DataFrame\n",
        "data_gaji = pd.read_csv('/content/employee_salaries.csv')  # Menggunakan pd.read_csv untuk memuat data dari file CSV\n",
        "\n",
        "# Menampilkan DataFrame untuk melihat isi dataset\n",
        "data_gaji  # Menampilkan isi dari DataFrame yang telah dimuat"
      ]
    },
    {
      "cell_type": "markdown",
      "metadata": {
        "id": "g644IGxFp8-h"
      },
      "source": [
        "### 2.2 Exploratory Data Analysis (EDA)"
      ]
    },
    {
      "cell_type": "markdown",
      "metadata": {
        "id": "v4FbIPyNp_VB"
      },
      "source": [
        "Eksplorasi data merupakan langkah pertama dalam menganalisis data, yang bertujuan untuk mengenali ciri-ciri data, menemukan pola atau ketidakwajaran, dan menguji hipotesis yang ada. Tahap ini biasanya melibatkan penggunaan teknik statistik dan visualisasi grafik guna membantu dalam pemahaman data."
      ]
    },
    {
      "cell_type": "markdown",
      "metadata": {
        "id": "orWXkWM8qCka"
      },
      "source": [
        "#### 2.2.1 EDA - Deskripsi Variabel"
      ]
    },
    {
      "cell_type": "code",
      "execution_count": 5,
      "metadata": {
        "colab": {
          "base_uri": "https://localhost:8080/"
        },
        "id": "mGxjch7HTruv",
        "outputId": "2e3533f8-dfd8-4e43-a052-995157672410"
      },
      "outputs": [
        {
          "name": "stdout",
          "output_type": "stream",
          "text": [
            "<class 'pandas.core.frame.DataFrame'>\n",
            "RangeIndex: 1500 entries, 0 to 1499\n",
            "Data columns (total 2 columns):\n",
            " #   Column               Non-Null Count  Dtype  \n",
            "---  ------               --------------  -----  \n",
            " 0   Years of Experience  1500 non-null   float64\n",
            " 1   Salary               1500 non-null   float64\n",
            "dtypes: float64(2)\n",
            "memory usage: 23.6 KB\n"
          ]
        }
      ],
      "source": [
        "# Menampilkan informasi mengenai struktur dan tipe data dalam DataFrame\n",
        "data_gaji.info()  # Menggunakan metode info() untuk mendapatkan ringkasan informasi tentang DataFrame"
      ]
    },
    {
      "cell_type": "code",
      "execution_count": 6,
      "metadata": {
        "colab": {
          "base_uri": "https://localhost:8080/",
          "height": 301
        },
        "id": "8v7rmnYkTuja",
        "outputId": "354eb4a5-a2ec-4026-af86-79b3549d9478"
      },
      "outputs": [
        {
          "data": {
            "text/html": [
              "\n",
              "  <div id=\"df-ab07208c-8b6c-4d08-8139-67494c7e625d\">\n",
              "    <div class=\"colab-df-container\">\n",
              "      <div>\n",
              "<style scoped>\n",
              "    .dataframe tbody tr th:only-of-type {\n",
              "        vertical-align: middle;\n",
              "    }\n",
              "\n",
              "    .dataframe tbody tr th {\n",
              "        vertical-align: top;\n",
              "    }\n",
              "\n",
              "    .dataframe thead th {\n",
              "        text-align: right;\n",
              "    }\n",
              "</style>\n",
              "<table border=\"1\" class=\"dataframe\">\n",
              "  <thead>\n",
              "    <tr style=\"text-align: right;\">\n",
              "      <th></th>\n",
              "      <th>Years of Experience</th>\n",
              "      <th>Salary</th>\n",
              "    </tr>\n",
              "  </thead>\n",
              "  <tbody>\n",
              "    <tr>\n",
              "      <th>count</th>\n",
              "      <td>1500.000000</td>\n",
              "      <td>1500.000000</td>\n",
              "    </tr>\n",
              "    <tr>\n",
              "      <th>mean</th>\n",
              "      <td>10.790000</td>\n",
              "      <td>112627.333333</td>\n",
              "    </tr>\n",
              "    <tr>\n",
              "      <th>std</th>\n",
              "      <td>3.028533</td>\n",
              "      <td>46151.075113</td>\n",
              "    </tr>\n",
              "    <tr>\n",
              "      <th>min</th>\n",
              "      <td>1.000000</td>\n",
              "      <td>40000.000000</td>\n",
              "    </tr>\n",
              "    <tr>\n",
              "      <th>25%</th>\n",
              "      <td>9.000000</td>\n",
              "      <td>88000.000000</td>\n",
              "    </tr>\n",
              "    <tr>\n",
              "      <th>50%</th>\n",
              "      <td>11.000000</td>\n",
              "      <td>94000.000000</td>\n",
              "    </tr>\n",
              "    <tr>\n",
              "      <th>75%</th>\n",
              "      <td>13.000000</td>\n",
              "      <td>117250.000000</td>\n",
              "    </tr>\n",
              "    <tr>\n",
              "      <th>max</th>\n",
              "      <td>20.000000</td>\n",
              "      <td>500000.000000</td>\n",
              "    </tr>\n",
              "  </tbody>\n",
              "</table>\n",
              "</div>\n",
              "      <button class=\"colab-df-convert\" onclick=\"convertToInteractive('df-ab07208c-8b6c-4d08-8139-67494c7e625d')\"\n",
              "              title=\"Convert this dataframe to an interactive table.\"\n",
              "              style=\"display:none;\">\n",
              "        \n",
              "  <svg xmlns=\"http://www.w3.org/2000/svg\" height=\"24px\"viewBox=\"0 0 24 24\"\n",
              "       width=\"24px\">\n",
              "    <path d=\"M0 0h24v24H0V0z\" fill=\"none\"/>\n",
              "    <path d=\"M18.56 5.44l.94 2.06.94-2.06 2.06-.94-2.06-.94-.94-2.06-.94 2.06-2.06.94zm-11 1L8.5 8.5l.94-2.06 2.06-.94-2.06-.94L8.5 2.5l-.94 2.06-2.06.94zm10 10l.94 2.06.94-2.06 2.06-.94-2.06-.94-.94-2.06-.94 2.06-2.06.94z\"/><path d=\"M17.41 7.96l-1.37-1.37c-.4-.4-.92-.59-1.43-.59-.52 0-1.04.2-1.43.59L10.3 9.45l-7.72 7.72c-.78.78-.78 2.05 0 2.83L4 21.41c.39.39.9.59 1.41.59.51 0 1.02-.2 1.41-.59l7.78-7.78 2.81-2.81c.8-.78.8-2.07 0-2.86zM5.41 20L4 18.59l7.72-7.72 1.47 1.35L5.41 20z\"/>\n",
              "  </svg>\n",
              "      </button>\n",
              "      \n",
              "  <style>\n",
              "    .colab-df-container {\n",
              "      display:flex;\n",
              "      flex-wrap:wrap;\n",
              "      gap: 12px;\n",
              "    }\n",
              "\n",
              "    .colab-df-convert {\n",
              "      background-color: #E8F0FE;\n",
              "      border: none;\n",
              "      border-radius: 50%;\n",
              "      cursor: pointer;\n",
              "      display: none;\n",
              "      fill: #1967D2;\n",
              "      height: 32px;\n",
              "      padding: 0 0 0 0;\n",
              "      width: 32px;\n",
              "    }\n",
              "\n",
              "    .colab-df-convert:hover {\n",
              "      background-color: #E2EBFA;\n",
              "      box-shadow: 0px 1px 2px rgba(60, 64, 67, 0.3), 0px 1px 3px 1px rgba(60, 64, 67, 0.15);\n",
              "      fill: #174EA6;\n",
              "    }\n",
              "\n",
              "    [theme=dark] .colab-df-convert {\n",
              "      background-color: #3B4455;\n",
              "      fill: #D2E3FC;\n",
              "    }\n",
              "\n",
              "    [theme=dark] .colab-df-convert:hover {\n",
              "      background-color: #434B5C;\n",
              "      box-shadow: 0px 1px 3px 1px rgba(0, 0, 0, 0.15);\n",
              "      filter: drop-shadow(0px 1px 2px rgba(0, 0, 0, 0.3));\n",
              "      fill: #FFFFFF;\n",
              "    }\n",
              "  </style>\n",
              "\n",
              "      <script>\n",
              "        const buttonEl =\n",
              "          document.querySelector('#df-ab07208c-8b6c-4d08-8139-67494c7e625d button.colab-df-convert');\n",
              "        buttonEl.style.display =\n",
              "          google.colab.kernel.accessAllowed ? 'block' : 'none';\n",
              "\n",
              "        async function convertToInteractive(key) {\n",
              "          const element = document.querySelector('#df-ab07208c-8b6c-4d08-8139-67494c7e625d');\n",
              "          const dataTable =\n",
              "            await google.colab.kernel.invokeFunction('convertToInteractive',\n",
              "                                                     [key], {});\n",
              "          if (!dataTable) return;\n",
              "\n",
              "          const docLinkHtml = 'Like what you see? Visit the ' +\n",
              "            '<a target=\"_blank\" href=https://colab.research.google.com/notebooks/data_table.ipynb>data table notebook</a>'\n",
              "            + ' to learn more about interactive tables.';\n",
              "          element.innerHTML = '';\n",
              "          dataTable['output_type'] = 'display_data';\n",
              "          await google.colab.output.renderOutput(dataTable, element);\n",
              "          const docLink = document.createElement('div');\n",
              "          docLink.innerHTML = docLinkHtml;\n",
              "          element.appendChild(docLink);\n",
              "        }\n",
              "      </script>\n",
              "    </div>\n",
              "  </div>\n",
              "  "
            ],
            "text/plain": [
              "       Years of Experience         Salary\n",
              "count          1500.000000    1500.000000\n",
              "mean             10.790000  112627.333333\n",
              "std               3.028533   46151.075113\n",
              "min               1.000000   40000.000000\n",
              "25%               9.000000   88000.000000\n",
              "50%              11.000000   94000.000000\n",
              "75%              13.000000  117250.000000\n",
              "max              20.000000  500000.000000"
            ]
          },
          "execution_count": 6,
          "metadata": {},
          "output_type": "execute_result"
        }
      ],
      "source": [
        "# Menghasilkan ringkasan statistik dari DataFrame untuk analisis data\n",
        "statistik_gaji = data_gaji.describe()  # Menggunakan metode describe() untuk mendapatkan statistik deskriptif\n",
        "statistik_gaji  # Menampilkan ringkasan statistik yang dihasilkan"
      ]
    },
    {
      "cell_type": "markdown",
      "metadata": {
        "id": "_TucE83yqIyN"
      },
      "source": [
        "#### 2.2.2 EDA - Menangani Missing Value dan Outliers"
      ]
    },
    {
      "cell_type": "code",
      "execution_count": 7,
      "metadata": {
        "colab": {
          "base_uri": "https://localhost:8080/"
        },
        "id": "uBZeCkA3q7jw",
        "outputId": "bf4d2d63-fac1-41d8-c9c3-0b2b975d81fa"
      },
      "outputs": [
        {
          "data": {
            "text/plain": [
              "Years of Experience    0\n",
              "Salary                 0\n",
              "dtype: int64"
            ]
          },
          "execution_count": 7,
          "metadata": {},
          "output_type": "execute_result"
        }
      ],
      "source": [
        "# Memeriksa apakah terdapat nilai yang hilang dalam DataFrame dan menghitung jumlahnya\n",
        "jumlah_nilai_hilang = data_gaji.isna().sum()  # Menggunakan isna() untuk mendeteksi nilai NaN dan sum() untuk menghitung totalnya\n",
        "jumlah_nilai_hilang  # Menampilkan jumlah nilai yang hilang untuk setiap kolom"
      ]
    },
    {
      "cell_type": "code",
      "execution_count": 8,
      "metadata": {
        "colab": {
          "base_uri": "https://localhost:8080/"
        },
        "id": "mQ9MhCp7riBa",
        "outputId": "d543f5e2-6c06-4a02-8613-fdd957e3287e"
      },
      "outputs": [
        {
          "data": {
            "text/plain": [
              "(1500, 2)"
            ]
          },
          "execution_count": 8,
          "metadata": {},
          "output_type": "execute_result"
        }
      ],
      "source": [
        "# Menghapus baris yang mengandung nilai kosong dari DataFrame\n",
        "data_gaji_bersih = data_gaji.dropna(axis=0)  # Menggunakan dropna() untuk menghapus baris dengan nilai NaN\n",
        "jumlah_baris_kolom = data_gaji_bersih.shape  # Mendapatkan dimensi DataFrame yang telah dibersihkan\n",
        "jumlah_baris_kolom  # Menampilkan jumlah baris dan kolom setelah penghapusan"
      ]
    },
    {
      "cell_type": "code",
      "execution_count": 9,
      "metadata": {
        "colab": {
          "base_uri": "https://localhost:8080/",
          "height": 296
        },
        "id": "mDTY2cu4tErB",
        "outputId": "9e5d9382-cf23-400c-e4bb-c20c65624d60"
      },
      "outputs": [
        {
          "data": {
            "text/plain": [
              "<matplotlib.axes._subplots.AxesSubplot at 0x7fe4e055aa90>"
            ]
          },
          "execution_count": 9,
          "metadata": {},
          "output_type": "execute_result"
        },
        {
          "data": {
            "image/png": "[encoded data removed]",
            "text/plain": [
              "<Figure size 432x288 with 1 Axes>"
            ]
          },
          "metadata": {
            "needs_background": "light"
          },
          "output_type": "display_data"
        }
      ],
      "source": [
        "# Membuat visualisasi boxplot untuk fitur 'Years of Experience' guna mendeteksi outlier\n",
        "plt.figure(figsize=(10, 6))  # Mengatur ukuran gambar untuk visualisasi\n",
        "sns.boxplot(x=data_gaji_bersih['Years of Experience'])  # Menggunakan boxplot untuk menampilkan distribusi dan outlier\n",
        "plt.title('Boxplot of Years of Experience')  # Menambahkan judul pada plot\n",
        "plt.xlabel('Years of Experience')  # Menambahkan label pada sumbu x\n",
        "plt.show()  # Menampilkan plot"
      ]
    },
    {
      "cell_type": "code",
      "execution_count": 10,
      "metadata": {
        "colab": {
          "base_uri": "https://localhost:8080/",
          "height": 296
        },
        "id": "XDaUP68xtdq1",
        "outputId": "fca66b80-7e55-46ae-b0c6-412240542649"
      },
      "outputs": [
        {
          "data": {
            "text/plain": [
              "<matplotlib.axes._subplots.AxesSubplot at 0x7fe4e051a750>"
            ]
          },
          "execution_count": 10,
          "metadata": {},
          "output_type": "execute_result"
        },
        {
          "data": {
            "image/png": "[encoded data removed]",
            "text/plain": [
              "<Figure size 432x288 with 1 Axes>"
            ]
          },
          "metadata": {
            "needs_background": "light"
          },
          "output_type": "display_data"
        }
      ],
      "source": [
        "# Membuat visualisasi boxplot untuk fitur 'Salary' guna mengidentifikasi outlier\n",
        "plt.figure(figsize=(10, 6))  # Mengatur ukuran gambar untuk visualisasi agar lebih jelas\n",
        "sns.boxplot(x=data_gaji_bersih['Salary'])  # Menggunakan boxplot untuk menampilkan distribusi gaji dan mendeteksi outlier\n",
        "plt.title('Boxplot of Salary')  # Menambahkan judul pada plot untuk memberikan konteks\n",
        "plt.xlabel('Salary')  # Menambahkan label pada sumbu x untuk menjelaskan data yang ditampilkan\n",
        "plt.show()  # Menampilkan boxplot yang telah dibuat"
      ]
    },
    {
      "cell_type": "code",
      "execution_count": 11,
      "metadata": {
        "colab": {
          "base_uri": "https://localhost:8080/"
        },
        "id": "iIRmyNHNT3NC",
        "outputId": "1bd7e199-6e8a-4d03-944f-dd1ad5d9e7cd"
      },
      "outputs": [
        {
          "data": {
            "text/plain": [
              "(1338, 2)"
            ]
          },
          "execution_count": 11,
          "metadata": {},
          "output_type": "execute_result"
        }
      ],
      "source": [
        "# Mengatasi outlier menggunakan metode IQR (Interquartile Range)\n",
        "kuartil_1 = data_gaji_bersih.quantile(0.25)  # Menghitung kuartil pertama\n",
        "kuartil_3 = data_gaji_bersih.quantile(0.75)  # Menghitung kuartil ketiga\n",
        "IQR = kuartil_3 - kuartil_1  # Menghitung rentang interkuartil\n",
        "\n",
        "# Menghapus baris yang mengandung outlier berdasarkan IQR\n",
        "data_gaji_bersih = data_gaji_bersih[~((data_gaji_bersih < (kuartil_1 - 1.5 * IQR)) | \n",
        "                                       (data_gaji_bersih > (kuartil_3 + 1.5 * IQR))).any(axis=1)]\n",
        "\n",
        "# Memeriksa dimensi dataset setelah penghapusan outlier\n",
        "ukuran_dataset = data_gaji_bersih.shape  # Mendapatkan jumlah baris dan kolom setelah penghapusan outlier\n",
        "ukuran_dataset  # Menampilkan ukuran dataset yang telah dibersihkan"
      ]
    },
    {
      "cell_type": "markdown",
      "metadata": {
        "id": "m8IiokL3vFk1"
      },
      "source": [
        "#### 2.2.3 EDA - Univariate Analysis"
      ]
    },
    {
      "cell_type": "code",
      "execution_count": 12,
      "metadata": {
        "colab": {
          "base_uri": "https://localhost:8080/",
          "height": 879
        },
        "id": "FM9WJIr3UvBT",
        "outputId": "66d502c3-70ed-4adf-95a0-e2ebde5557da"
      },
      "outputs": [
        {
          "data": {
            "image/png": "[encoded data removed]",
            "text/plain": [
              "<Figure size 1440x1080 with 2 Axes>"
            ]
          },
          "metadata": {
            "needs_background": "light"
          },
          "output_type": "display_data"
        }
      ],
      "source": [
        "# Membuat histogram untuk setiap fitur numerik dalam DataFrame untuk analisis distribusi\n",
        "data_gaji_bersih.hist(bins=50, figsize=(20, 15))  # Menggunakan histogram dengan 50 bin untuk visualisasi distribusi\n",
        "plt.suptitle('Histograms of Numerical Features')  # Menambahkan judul umum untuk semua histogram\n",
        "plt.show()  # Menampilkan semua histogram yang telah dibuat"
      ]
    },
    {
      "cell_type": "markdown",
      "metadata": {
        "id": "rmLddf18wN-Y"
      },
      "source": [
        "#### 2.2.4 EDA - Multivariate Analysis"
      ]
    },
    {
      "cell_type": "code",
      "execution_count": 13,
      "metadata": {
        "colab": {
          "base_uri": "https://localhost:8080/",
          "height": 391
        },
        "id": "RdJm-PoowM-n",
        "outputId": "e81c04eb-db76-4536-8a60-90759e2e4f32"
      },
      "outputs": [
        {
          "data": {
            "text/plain": [
              "<seaborn.axisgrid.PairGrid at 0x7fe4dfd783d0>"
            ]
          },
          "execution_count": 13,
          "metadata": {},
          "output_type": "execute_result"
        },
        {
          "data": {
            "image/png": "[encoded data removed]",
            "text/plain": [
              "<Figure size 360x360 with 6 Axes>"
            ]
          },
          "metadata": {
            "needs_background": "light"
          },
          "output_type": "display_data"
        }
      ],
      "source": [
        "# Menganalisis hubungan antar fitur dalam DataFrame menggunakan pairplot\n",
        "sns.pairplot(data_gaji_bersih, diag_kind='kde')  # Menggunakan pairplot untuk visualisasi hubungan antar fitur dengan KDE pada diagonal\n",
        "plt.suptitle('Pairplot of Features', y=1.02)  # Menambahkan judul untuk visualisasi, dengan penyesuaian posisi vertikal\n",
        "plt.show()  # Menampilkan pairplot yang telah dibuat"
      ]
    },
    {
      "cell_type": "code",
      "execution_count": 14,
      "metadata": {
        "colab": {
          "base_uri": "https://localhost:8080/",
          "height": 521
        },
        "id": "MMO3RxdiV52I",
        "outputId": "dab448df-f202-43b0-d11a-d244e770af5a"
      },
      "outputs": [
        {
          "data": {
            "text/plain": [
              "Text(0.5, 1.0, 'Matriks Korelasi untuk Fitur Numerik ')"
            ]
          },
          "execution_count": 14,
          "metadata": {},
          "output_type": "execute_result"
        },
        {
          "data": {
            "image/png": "[encoded data removed]",
            "text/plain": [
              "<Figure size 720x576 with 2 Axes>"
            ]
          },
          "metadata": {
            "needs_background": "light"
          },
          "output_type": "display_data"
        }
      ],
      "source": [
        "# Mengamati korelasi antar fitur dengan menggunakan heatmap\n",
        "plt.figure(figsize=(10, 8))  # Mengatur ukuran gambar untuk heatmap\n",
        "matriks_korelasi = data_gaji_bersih.corr().round(2)  # Menghitung matriks korelasi dan membulatkannya hingga 2 desimal\n",
        "\n",
        "# Membuat heatmap untuk visualisasi matriks korelasi\n",
        "sns.heatmap(data=matriks_korelasi, annot=True, cmap='coolwarm', linewidths=0.5)  # Menampilkan heatmap dengan anotasi\n",
        "plt.title(\"Korelasi Antar Fitur Numerik\", fontsize=20)  # Menambahkan judul pada heatmap\n",
        "plt.show()  # Menampilkan heatmap yang telah dibuat"
      ]
    },
    {
      "cell_type": "markdown",
      "metadata": {
        "id": "FWe0lT6GxkGz"
      },
      "source": [
        "## **3. Data Preparation**"
      ]
    },
    {
      "cell_type": "markdown",
      "metadata": {
        "id": "qyXxKf_4z3ga"
      },
      "source": [
        "Persiapan data adalah langkah yang dilakukan untuk mengolah data agar siap digunakan dalam tahap pembuatan model Machine Learning."
      ]
    },
    {
      "cell_type": "markdown",
      "metadata": {
        "id": "LJy6Rdys0U79"
      },
      "source": [
        "### 3.1 Train-Test-Split"
      ]
    },
    {
      "cell_type": "code",
      "execution_count": 15,
      "metadata": {
        "id": "sNyKqsK2cGpw"
      },
      "outputs": [],
      "source": [
        "# Memisahkan dataset menjadi fitur (X) dan target (y), dengan proporsi 90:10 untuk data latih dan data uji\n",
        "fitur = data_gaji_bersih.drop([\"Salary\"], axis=1)  # Menghapus kolom 'Salary' untuk mendapatkan fitur\n",
        "target = data_gaji_bersih[\"Salary\"]  # Menyimpan kolom 'Salary' sebagai target\n",
        "\n",
        "# Membagi data menjadi set pelatihan dan set pengujian\n",
        "X_train, X_test, y_train, y_test = train_test_split(fitur, target, test_size=0.1, random_state=123)  # Menggunakan 10% data untuk pengujian"
      ]
    },
    {
      "cell_type": "code",
      "execution_count": 16,
      "metadata": {
        "colab": {
          "base_uri": "https://localhost:8080/"
        },
        "id": "XiiH2tqwcN54",
        "outputId": "0f994224-c8af-442a-bbe5-d3738f32c5ba"
      },
      "outputs": [
        {
          "name": "stdout",
          "output_type": "stream",
          "text": [
            "Total seluruh sampel dalam dataset: 1338\n",
            "Total sampel dalam train dataset: 1204\n",
            "Total samepl dalam test dataset: 134\n"
          ]
        }
      ],
      "source": [
        "# Menghitung total sampel dalam dataset, dataset pelatihan, dan dataset pengujian\n",
        "total_data = data_gaji_bersih.shape[0]  # Menghitung jumlah total sampel dalam dataset\n",
        "total_latih = X_train.shape[0]  # Menghitung jumlah sampel dalam dataset pelatihan\n",
        "total_uji = X_test.shape[0]  # Menghitung jumlah sampel dalam dataset pengujian\n",
        "\n",
        "# Mencetak hasil total sampel\n",
        "print(f\"Total sampel dalam dataset: {total_data}\")  # Menampilkan total sampel dalam dataset\n",
        "print(f\"Total sampel dalam dataset pelatihan: {total_latih}\")  # Menampilkan total sampel dalam dataset pelatihan\n",
        "print(f\"Total sampel dalam dataset pengujian: {total_uji}\")  # Menampilkan total sampel dalam dataset pengujian"
      ]
    },
    {
      "cell_type": "markdown",
      "metadata": {
        "id": "7FugCe-gFgBe"
      },
      "source": [
        "### 3.2 Standarisasi"
      ]
    },
    {
      "cell_type": "code",
      "execution_count": 17,
      "metadata": {
        "colab": {
          "base_uri": "https://localhost:8080/",
          "height": 206
        },
        "id": "H7p0CTdecQlu",
        "outputId": "950b6110-6396-4de4-f48b-76c2420f13ec"
      },
      "outputs": [
        {
          "data": {
            "text/html": [
              "\n",
              "  <div id=\"df-3e9c4e34-5fcb-402c-8a26-97c7995a4360\">\n",
              "    <div class=\"colab-df-container\">\n",
              "      <div>\n",
              "<style scoped>\n",
              "    .dataframe tbody tr th:only-of-type {\n",
              "        vertical-align: middle;\n",
              "    }\n",
              "\n",
              "    .dataframe tbody tr th {\n",
              "        vertical-align: top;\n",
              "    }\n",
              "\n",
              "    .dataframe thead th {\n",
              "        text-align: right;\n",
              "    }\n",
              "</style>\n",
              "<table border=\"1\" class=\"dataframe\">\n",
              "  <thead>\n",
              "    <tr style=\"text-align: right;\">\n",
              "      <th></th>\n",
              "      <th>Years of Experience</th>\n",
              "    </tr>\n",
              "  </thead>\n",
              "  <tbody>\n",
              "    <tr>\n",
              "      <th>1466</th>\n",
              "      <td>0.715844</td>\n",
              "    </tr>\n",
              "    <tr>\n",
              "      <th>920</th>\n",
              "      <td>-0.479546</td>\n",
              "    </tr>\n",
              "    <tr>\n",
              "      <th>750</th>\n",
              "      <td>1.114308</td>\n",
              "    </tr>\n",
              "    <tr>\n",
              "      <th>280</th>\n",
              "      <td>-0.081083</td>\n",
              "    </tr>\n",
              "    <tr>\n",
              "      <th>1099</th>\n",
              "      <td>-0.479546</td>\n",
              "    </tr>\n",
              "  </tbody>\n",
              "</table>\n",
              "</div>\n",
              "      <button class=\"colab-df-convert\" onclick=\"convertToInteractive('df-3e9c4e34-5fcb-402c-8a26-97c7995a4360')\"\n",
              "              title=\"Convert this dataframe to an interactive table.\"\n",
              "              style=\"display:none;\">\n",
              "        \n",
              "  <svg xmlns=\"http://www.w3.org/2000/svg\" height=\"24px\"viewBox=\"0 0 24 24\"\n",
              "       width=\"24px\">\n",
              "    <path d=\"M0 0h24v24H0V0z\" fill=\"none\"/>\n",
              "    <path d=\"M18.56 5.44l.94 2.06.94-2.06 2.06-.94-2.06-.94-.94-2.06-.94 2.06-2.06.94zm-11 1L8.5 8.5l.94-2.06 2.06-.94-2.06-.94L8.5 2.5l-.94 2.06-2.06.94zm10 10l.94 2.06.94-2.06 2.06-.94-2.06-.94-.94-2.06-.94 2.06-2.06.94z\"/><path d=\"M17.41 7.96l-1.37-1.37c-.4-.4-.92-.59-1.43-.59-.52 0-1.04.2-1.43.59L10.3 9.45l-7.72 7.72c-.78.78-.78 2.05 0 2.83L4 21.41c.39.39.9.59 1.41.59.51 0 1.02-.2 1.41-.59l7.78-7.78 2.81-2.81c.8-.78.8-2.07 0-2.86zM5.41 20L4 18.59l7.72-7.72 1.47 1.35L5.41 20z\"/>\n",
              "  </svg>\n",
              "      </button>\n",
              "      \n",
              "  <style>\n",
              "    .colab-df-container {\n",
              "      display:flex;\n",
              "      flex-wrap:wrap;\n",
              "      gap: 12px;\n",
              "    }\n",
              "\n",
              "    .colab-df-convert {\n",
              "      background-color: #E8F0FE;\n",
              "      border: none;\n",
              "      border-radius: 50%;\n",
              "      cursor: pointer;\n",
              "      display: none;\n",
              "      fill: #1967D2;\n",
              "      height: 32px;\n",
              "      padding: 0 0 0 0;\n",
              "      width: 32px;\n",
              "    }\n",
              "\n",
              "    .colab-df-convert:hover {\n",
              "      background-color: #E2EBFA;\n",
              "      box-shadow: 0px 1px 2px rgba(60, 64, 67, 0.3), 0px 1px 3px 1px rgba(60, 64, 67, 0.15);\n",
              "      fill: #174EA6;\n",
              "    }\n",
              "\n",
              "    [theme=dark] .colab-df-convert {\n",
              "      background-color: #3B4455;\n",
              "      fill: #D2E3FC;\n",
              "    }\n",
              "\n",
              "    [theme=dark] .colab-df-convert:hover {\n",
              "      background-color: #434B5C;\n",
              "      box-shadow: 0px 1px 3px 1px rgba(0, 0, 0, 0.15);\n",
              "      filter: drop-shadow(0px 1px 2px rgba(0, 0, 0, 0.3));\n",
              "      fill: #FFFFFF;\n",
              "    }\n",
              "  </style>\n",
              "\n",
              "      <script>\n",
              "        const buttonEl =\n",
              "          document.querySelector('#df-3e9c4e34-5fcb-402c-8a26-97c7995a4360 button.colab-df-convert');\n",
              "        buttonEl.style.display =\n",
              "          google.colab.kernel.accessAllowed ? 'block' : 'none';\n",
              "\n",
              "        async function convertToInteractive(key) {\n",
              "          const element = document.querySelector('#df-3e9c4e34-5fcb-402c-8a26-97c7995a4360');\n",
              "          const dataTable =\n",
              "            await google.colab.kernel.invokeFunction('convertToInteractive',\n",
              "                                                     [key], {});\n",
              "          if (!dataTable) return;\n",
              "\n",
              "          const docLinkHtml = 'Like what you see? Visit the ' +\n",
              "            '<a target=\"_blank\" href=https://colab.research.google.com/notebooks/data_table.ipynb>data table notebook</a>'\n",
              "            + ' to learn more about interactive tables.';\n",
              "          element.innerHTML = '';\n",
              "          dataTable['output_type'] = 'display_data';\n",
              "          await google.colab.output.renderOutput(dataTable, element);\n",
              "          const docLink = document.createElement('div');\n",
              "          docLink.innerHTML = docLinkHtml;\n",
              "          element.appendChild(docLink);\n",
              "        }\n",
              "      </script>\n",
              "    </div>\n",
              "  </div>\n",
              "  "
            ],
            "text/plain": [
              "      Years of Experience\n",
              "1466             0.715844\n",
              "920             -0.479546\n",
              "750              1.114308\n",
              "280             -0.081083\n",
              "1099            -0.479546"
            ]
          },
          "execution_count": 17,
          "metadata": {},
          "output_type": "execute_result"
        }
      ],
      "source": [
        "# Melakukan standarisasi pada fitur numerik dalam dataset pelatihan menggunakan StandardScaler\n",
        "fitur_numerik = ['Years of Experience']  # Menentukan fitur numerik yang akan distandarisasi\n",
        "scaler = StandardScaler()  # Membuat objek StandardScaler untuk normalisasi data\n",
        "\n",
        "# Menghitung parameter standarisasi (mean dan std) berdasarkan data pelatihan\n",
        "scaler.fit(X_train[fitur_numerik])  \n",
        "\n",
        "# Menerapkan transformasi standarisasi pada data pelatihan\n",
        "X_train[fitur_numerik] = scaler.transform(X_train[fitur_numerik])  \n",
        "\n",
        "# Menampilkan beberapa baris pertama dari fitur yang telah distandarisasi\n",
        "X_train[fitur_numerik].head()  "
      ]
    },
    {
      "cell_type": "code",
      "execution_count": 18,
      "metadata": {
        "colab": {
          "base_uri": "https://localhost:8080/",
          "height": 301
        },
        "id": "n0AwaV2JcdXS",
        "outputId": "3013a057-1e4a-4811-d87f-c369be66f1f4"
      },
      "outputs": [
        {
          "data": {
            "text/html": [
              "\n",
              "  <div id=\"df-32a2fb22-2254-4d49-a305-fa9d71c76259\">\n",
              "    <div class=\"colab-df-container\">\n",
              "      <div>\n",
              "<style scoped>\n",
              "    .dataframe tbody tr th:only-of-type {\n",
              "        vertical-align: middle;\n",
              "    }\n",
              "\n",
              "    .dataframe tbody tr th {\n",
              "        vertical-align: top;\n",
              "    }\n",
              "\n",
              "    .dataframe thead th {\n",
              "        text-align: right;\n",
              "    }\n",
              "</style>\n",
              "<table border=\"1\" class=\"dataframe\">\n",
              "  <thead>\n",
              "    <tr style=\"text-align: right;\">\n",
              "      <th></th>\n",
              "      <th>Years of Experience</th>\n",
              "    </tr>\n",
              "  </thead>\n",
              "  <tbody>\n",
              "    <tr>\n",
              "      <th>count</th>\n",
              "      <td>1204.0000</td>\n",
              "    </tr>\n",
              "    <tr>\n",
              "      <th>mean</th>\n",
              "      <td>0.0000</td>\n",
              "    </tr>\n",
              "    <tr>\n",
              "      <th>std</th>\n",
              "      <td>1.0004</td>\n",
              "    </tr>\n",
              "    <tr>\n",
              "      <th>min</th>\n",
              "      <td>-2.8703</td>\n",
              "    </tr>\n",
              "    <tr>\n",
              "      <th>25%</th>\n",
              "      <td>-0.4795</td>\n",
              "    </tr>\n",
              "    <tr>\n",
              "      <th>50%</th>\n",
              "      <td>-0.0811</td>\n",
              "    </tr>\n",
              "    <tr>\n",
              "      <th>75%</th>\n",
              "      <td>0.7158</td>\n",
              "    </tr>\n",
              "    <tr>\n",
              "      <th>max</th>\n",
              "      <td>1.9112</td>\n",
              "    </tr>\n",
              "  </tbody>\n",
              "</table>\n",
              "</div>\n",
              "      <button class=\"colab-df-convert\" onclick=\"convertToInteractive('df-32a2fb22-2254-4d49-a305-fa9d71c76259')\"\n",
              "              title=\"Convert this dataframe to an interactive table.\"\n",
              "              style=\"display:none;\">\n",
              "        \n",
              "  <svg xmlns=\"http://www.w3.org/2000/svg\" height=\"24px\"viewBox=\"0 0 24 24\"\n",
              "       width=\"24px\">\n",
              "    <path d=\"M0 0h24v24H0V0z\" fill=\"none\"/>\n",
              "    <path d=\"M18.56 5.44l.94 2.06.94-2.06 2.06-.94-2.06-.94-.94-2.06-.94 2.06-2.06.94zm-11 1L8.5 8.5l.94-2.06 2.06-.94-2.06-.94L8.5 2.5l-.94 2.06-2.06.94zm10 10l.94 2.06.94-2.06 2.06-.94-2.06-.94-.94-2.06-.94 2.06-2.06.94z\"/><path d=\"M17.41 7.96l-1.37-1.37c-.4-.4-.92-.59-1.43-.59-.52 0-1.04.2-1.43.59L10.3 9.45l-7.72 7.72c-.78.78-.78 2.05 0 2.83L4 21.41c.39.39.9.59 1.41.59.51 0 1.02-.2 1.41-.59l7.78-7.78 2.81-2.81c.8-.78.8-2.07 0-2.86zM5.41 20L4 18.59l7.72-7.72 1.47 1.35L5.41 20z\"/>\n",
              "  </svg>\n",
              "      </button>\n",
              "      \n",
              "  <style>\n",
              "    .colab-df-container {\n",
              "      display:flex;\n",
              "      flex-wrap:wrap;\n",
              "      gap: 12px;\n",
              "    }\n",
              "\n",
              "    .colab-df-convert {\n",
              "      background-color: #E8F0FE;\n",
              "      border: none;\n",
              "      border-radius: 50%;\n",
              "      cursor: pointer;\n",
              "      display: none;\n",
              "      fill: #1967D2;\n",
              "      height: 32px;\n",
              "      padding: 0 0 0 0;\n",
              "      width: 32px;\n",
              "    }\n",
              "\n",
              "    .colab-df-convert:hover {\n",
              "      background-color: #E2EBFA;\n",
              "      box-shadow: 0px 1px 2px rgba(60, 64, 67, 0.3), 0px 1px 3px 1px rgba(60, 64, 67, 0.15);\n",
              "      fill: #174EA6;\n",
              "    }\n",
              "\n",
              "    [theme=dark] .colab-df-convert {\n",
              "      background-color: #3B4455;\n",
              "      fill: #D2E3FC;\n",
              "    }\n",
              "\n",
              "    [theme=dark] .colab-df-convert:hover {\n",
              "      background-color: #434B5C;\n",
              "      box-shadow: 0px 1px 3px 1px rgba(0, 0, 0, 0.15);\n",
              "      filter: drop-shadow(0px 1px 2px rgba(0, 0, 0, 0.3));\n",
              "      fill: #FFFFFF;\n",
              "    }\n",
              "  </style>\n",
              "\n",
              "      <script>\n",
              "        const buttonEl =\n",
              "          document.querySelector('#df-32a2fb22-2254-4d49-a305-fa9d71c76259 button.colab-df-convert');\n",
              "        buttonEl.style.display =\n",
              "          google.colab.kernel.accessAllowed ? 'block' : 'none';\n",
              "\n",
              "        async function convertToInteractive(key) {\n",
              "          const element = document.querySelector('#df-32a2fb22-2254-4d49-a305-fa9d71c76259');\n",
              "          const dataTable =\n",
              "            await google.colab.kernel.invokeFunction('convertToInteractive',\n",
              "                                                     [key], {});\n",
              "          if (!dataTable) return;\n",
              "\n",
              "          const docLinkHtml = 'Like what you see? Visit the ' +\n",
              "            '<a target=\"_blank\" href=https://colab.research.google.com/notebooks/data_table.ipynb>data table notebook</a>'\n",
              "            + ' to learn more about interactive tables.';\n",
              "          element.innerHTML = '';\n",
              "          dataTable['output_type'] = 'display_data';\n",
              "          await google.colab.output.renderOutput(dataTable, element);\n",
              "          const docLink = document.createElement('div');\n",
              "          docLink.innerHTML = docLinkHtml;\n",
              "          element.appendChild(docLink);\n",
              "        }\n",
              "      </script>\n",
              "    </div>\n",
              "  </div>\n",
              "  "
            ],
            "text/plain": [
              "       Years of Experience\n",
              "count            1204.0000\n",
              "mean                0.0000\n",
              "std                 1.0004\n",
              "min                -2.8703\n",
              "25%                -0.4795\n",
              "50%                -0.0811\n",
              "75%                 0.7158\n",
              "max                 1.9112"
            ]
          },
          "execution_count": 18,
          "metadata": {},
          "output_type": "execute_result"
        }
      ],
      "source": [
        "# Menampilkan statistik deskriptif dari fitur yang telah distandarisasi\n",
        "statistik_standarisasi = X_train[fitur_numerik].describe().round(4)  # Menghitung statistik deskriptif dan membulatkan hasilnya hingga 4 desimal\n",
        "statistik_standarisasi  # Menampilkan hasil statistik deskriptif"
      ]
    },
    {
      "cell_type": "markdown",
      "metadata": {
        "id": "Aafp1bXmGSaR"
      },
      "source": [
        "## **4. Model Development**"
      ]
    },
    {
      "cell_type": "markdown",
      "metadata": {
        "id": "C693HMVoGXoT"
      },
      "source": [
        "Pengembangan model adalah fase di mana algoritma machine learning diterapkan untuk menyelesaikan permasalahan yang telah diidentifikasi pada tahap pemahaman bisnis."
      ]
    },
    {
      "cell_type": "markdown",
      "metadata": {
        "id": "9JjgbhGGGnWm"
      },
      "source": [
        "### 4.1 Mempersiapkaan dataframe untuk analisis model"
      ]
    },
    {
      "cell_type": "code",
      "execution_count": 19,
      "metadata": {
        "id": "76HcbJgOcg-u"
      },
      "outputs": [],
      "source": [
        "# Membuat DataFrame untuk menyimpan nilai Mean Squared Error (MSE) dari model yang berbeda\n",
        "hasil_model = pd.DataFrame(index=['train_mse', 'test_mse'], \n",
        "                            columns=['LinearRegression'])  # Menentukan indeks untuk MSE dan kolom untuk model Linear Regression"
      ]
    },
    {
      "cell_type": "markdown",
      "metadata": {
        "id": "Kn_dzNpRG5Gp"
      },
      "source": [
        "### 4.2 Membuat Model dengan Algoritma Linear Regression"
      ]
    },
    {
      "cell_type": "code",
      "execution_count": 20,
      "metadata": {
        "id": "aSVr61mvOIr1"
      },
      "outputs": [],
      "source": [
        "# Membuat objek model Linear Regression dengan pengaturan untuk menggunakan semua inti CPU\n",
        "model_lr = LinearRegression(n_jobs=-1)  # Menginisialisasi model Linear Regression\n",
        "\n",
        "# Melatih model menggunakan data pelatihan\n",
        "model_lr.fit(X_train, y_train)  # Melakukan fitting model dengan data fitur dan target\n",
        "\n",
        "# Menghitung Mean Squared Error (MSE) untuk data pelatihan dan menyimpannya dalam DataFrame\n",
        "mse_train = mean_squared_error(y_true=y_train, y_pred=model_lr.predict(X_train))  # Menghitung MSE\n",
        "models.loc['train_mse', 'LinearRegression'] = mse_train  # Menyimpan nilai MSE ke dalam DataFrame"
      ]
    },
    {
      "cell_type": "markdown",
      "metadata": {
        "id": "8jjFJBRoIX-7"
      },
      "source": [
        "## **5. Evaluasi Model**"
      ]
    },
    {
      "cell_type": "markdown",
      "metadata": {
        "id": "BT44SgjnI05g"
      },
      "source": [
        "Tahap Evaluasi Model bertujuan untuk menguji kecocokan suatu model dengan tujuan yang telah ditetapkan serta memastikan bahwa model tersebut dapat menghasilkan prediksi yang tepat."
      ]
    },
    {
      "cell_type": "code",
      "execution_count": 21,
      "metadata": {
        "id": "tO0cxE9EdmoD"
      },
      "outputs": [],
      "source": [
        "# Menerapkan standarisasi pada fitur numerik dalam dataset pengujian\n",
        "X_test[fitur_numerik] = scaler.transform(X_test[fitur_numerik])  # Menggunakan scaler yang sama untuk mentransformasi data uji"
      ]
    },
    {
      "cell_type": "markdown",
      "metadata": {
        "id": "pW4raBGuo4T3"
      },
      "source": [
        "### 5.1 Evaluasi Model Menggunakan Metrik MSE"
      ]
    },
    {
      "cell_type": "code",
      "execution_count": 22,
      "metadata": {
        "colab": {
          "base_uri": "https://localhost:8080/",
          "height": 81
        },
        "id": "jOe166_pdqId",
        "outputId": "df4a7462-7d5e-4755-c7b0-2e48789e7794"
      },
      "outputs": [
        {
          "data": {
            "text/html": [
              "\n",
              "  <div id=\"df-8a2d9ed4-7c7c-4cc3-a9e3-f741260a429e\">\n",
              "    <div class=\"colab-df-container\">\n",
              "      <div>\n",
              "<style scoped>\n",
              "    .dataframe tbody tr th:only-of-type {\n",
              "        vertical-align: middle;\n",
              "    }\n",
              "\n",
              "    .dataframe tbody tr th {\n",
              "        vertical-align: top;\n",
              "    }\n",
              "\n",
              "    .dataframe thead th {\n",
              "        text-align: right;\n",
              "    }\n",
              "</style>\n",
              "<table border=\"1\" class=\"dataframe\">\n",
              "  <thead>\n",
              "    <tr style=\"text-align: right;\">\n",
              "      <th></th>\n",
              "      <th>train</th>\n",
              "      <th>test</th>\n",
              "    </tr>\n",
              "  </thead>\n",
              "  <tbody>\n",
              "    <tr>\n",
              "      <th>LinearRegression</th>\n",
              "      <td>113458.095232</td>\n",
              "      <td>127004.94334</td>\n",
              "    </tr>\n",
              "  </tbody>\n",
              "</table>\n",
              "</div>\n",
              "      <button class=\"colab-df-convert\" onclick=\"convertToInteractive('df-8a2d9ed4-7c7c-4cc3-a9e3-f741260a429e')\"\n",
              "              title=\"Convert this dataframe to an interactive table.\"\n",
              "              style=\"display:none;\">\n",
              "        \n",
              "  <svg xmlns=\"http://www.w3.org/2000/svg\" height=\"24px\"viewBox=\"0 0 24 24\"\n",
              "       width=\"24px\">\n",
              "    <path d=\"M0 0h24v24H0V0z\" fill=\"none\"/>\n",
              "    <path d=\"M18.56 5.44l.94 2.06.94-2.06 2.06-.94-2.06-.94-.94-2.06-.94 2.06-2.06.94zm-11 1L8.5 8.5l.94-2.06 2.06-.94-2.06-.94L8.5 2.5l-.94 2.06-2.06.94zm10 10l.94 2.06.94-2.06 2.06-.94-2.06-.94-.94-2.06-.94 2.06-2.06.94z\"/><path d=\"M17.41 7.96l-1.37-1.37c-.4-.4-.92-.59-1.43-.59-.52 0-1.04.2-1.43.59L10.3 9.45l-7.72 7.72c-.78.78-.78 2.05 0 2.83L4 21.41c.39.39.9.59 1.41.59.51 0 1.02-.2 1.41-.59l7.78-7.78 2.81-2.81c.8-.78.8-2.07 0-2.86zM5.41 20L4 18.59l7.72-7.72 1.47 1.35L5.41 20z\"/>\n",
              "  </svg>\n",
              "      </button>\n",
              "      \n",
              "  <style>\n",
              "    .colab-df-container {\n",
              "      display:flex;\n",
              "      flex-wrap:wrap;\n",
              "      gap: 12px;\n",
              "    }\n",
              "\n",
              "    .colab-df-convert {\n",
              "      background-color: #E8F0FE;\n",
              "      border: none;\n",
              "      border-radius: 50%;\n",
              "      cursor: pointer;\n",
              "      display: none;\n",
              "      fill: #1967D2;\n",
              "      height: 32px;\n",
              "      padding: 0 0 0 0;\n",
              "      width: 32px;\n",
              "    }\n",
              "\n",
              "    .colab-df-convert:hover {\n",
              "      background-color: #E2EBFA;\n",
              "      box-shadow: 0px 1px 2px rgba(60, 64, 67, 0.3), 0px 1px 3px 1px rgba(60, 64, 67, 0.15);\n",
              "      fill: #174EA6;\n",
              "    }\n",
              "\n",
              "    [theme=dark] .colab-df-convert {\n",
              "      background-color: #3B4455;\n",
              "      fill: #D2E3FC;\n",
              "    }\n",
              "\n",
              "    [theme=dark] .colab-df-convert:hover {\n",
              "      background-color: #434B5C;\n",
              "      box-shadow: 0px 1px 3px 1px rgba(0, 0, 0, 0.15);\n",
              "      filter: drop-shadow(0px 1px 2px rgba(0, 0, 0, 0.3));\n",
              "      fill: #FFFFFF;\n",
              "    }\n",
              "  </style>\n",
              "\n",
              "      <script>\n",
              "        const buttonEl =\n",
              "          document.querySelector('#df-8a2d9ed4-7c7c-4cc3-a9e3-f741260a429e button.colab-df-convert');\n",
              "        buttonEl.style.display =\n",
              "          google.colab.kernel.accessAllowed ? 'block' : 'none';\n",
              "\n",
              "        async function convertToInteractive(key) {\n",
              "          const element = document.querySelector('#df-8a2d9ed4-7c7c-4cc3-a9e3-f741260a429e');\n",
              "          const dataTable =\n",
              "            await google.colab.kernel.invokeFunction('convertToInteractive',\n",
              "                                                     [key], {});\n",
              "          if (!dataTable) return;\n",
              "\n",
              "          const docLinkHtml = 'Like what you see? Visit the ' +\n",
              "            '<a target=\"_blank\" href=https://colab.research.google.com/notebooks/data_table.ipynb>data table notebook</a>'\n",
              "            + ' to learn more about interactive tables.';\n",
              "          element.innerHTML = '';\n",
              "          dataTable['output_type'] = 'display_data';\n",
              "          await google.colab.output.renderOutput(dataTable, element);\n",
              "          const docLink = document.createElement('div');\n",
              "          docLink.innerHTML = docLinkHtml;\n",
              "          element.appendChild(docLink);\n",
              "        }\n",
              "      </script>\n",
              "    </div>\n",
              "  </div>\n",
              "  "
            ],
            "text/plain": [
              "                          train          test\n",
              "LinearRegression  113458.095232  127004.94334"
            ]
          },
          "execution_count": 22,
          "metadata": {},
          "output_type": "execute_result"
        }
      ],
      "source": [
        "# Membuat DataFrame untuk menyimpan nilai Mean Squared Error (MSE) dari data pelatihan dan pengujian\n",
        "mse_scores = pd.DataFrame(columns=['train', 'test'], index=['LinearRegression'])  # Menentukan kolom dan indeks untuk MSE\n",
        "\n",
        "# Membuat kamus untuk menyimpan model yang digunakan\n",
        "model_dictionary = {'LinearRegression': model_lr}  # Menyimpan model Linear Regression dalam kamus\n",
        "\n",
        "# Menghitung MSE untuk model pada data pelatihan dan pengujian\n",
        "for model_name, model_instance in model_dictionary.items():\n",
        "    mse_scores.loc[model_name, 'train'] = mean_squared_error(y_true=y_train, y_pred=model_instance.predict(X_train)) / 1e3  # MSE untuk data pelatihan\n",
        "    mse_scores.loc[model_name, 'test'] = mean_squared_error(y_true=y_test, y_pred=model_instance.predict(X_test)) / 1e3  # MSE untuk data pengujian\n",
        "\n",
        "# Menampilkan DataFrame yang berisi nilai MSE\n",
        "mse_scores  # Memanggil DataFrame untuk melihat hasil MSE"
      ]
    },
    {
      "cell_type": "code",
      "execution_count": 23,
      "metadata": {
        "colab": {
          "base_uri": "https://localhost:8080/",
          "height": 265
        },
        "id": "X1M19hFzdvAv",
        "outputId": "118b716e-a057-4227-a402-46e38fa336ce"
      },
      "outputs": [
        {
          "data": {
            "image/png": "[encoded data removed]",
            "text/plain": [
              "<Figure size 432x288 with 1 Axes>"
            ]
          },
          "metadata": {
            "needs_background": "light"
          },
          "output_type": "display_data"
        }
      ],
      "source": [
        "# Membuat visualisasi plot untuk metrik MSE\n",
        "figura, sumbu = plt.subplots()  # Membuat objek figure dan axes untuk plot\n",
        "mse_scores.sort_values(by='test', ascending=False).plot(kind='barh', ax=sumbu, zorder=3)  # Mengurutkan dan memplot MSE untuk data uji dalam bentuk bar horizontal\n",
        "sumbu.grid(zorder=0)  # Menambahkan grid pada sumbu dengan z-order lebih rendah agar tidak menutupi plot\n",
        "plt.title('Mean Squared Error (MSE) pada Data Uji')  # Menambahkan judul pada plot\n",
        "plt.xlabel('MSE')  # Menambahkan label pada sumbu x\n",
        "plt.ylabel('Model')  # Menambahkan label pada sumbu y\n",
        "plt.show()  # Menampilkan plot"
      ]
    },
    {
      "cell_type": "markdown",
      "metadata": {
        "id": "iDcX7BR6pK42"
      },
      "source": [
        "### 5.2 Melakukan Pengujian"
      ]
    },
    {
      "cell_type": "code",
      "execution_count": 24,
      "metadata": {
        "colab": {
          "base_uri": "https://localhost:8080/",
          "height": 81
        },
        "id": "yMZ1i_O1c4Zq",
        "outputId": "d498569f-406e-412c-8686-d7d7a0d650b9"
      },
      "outputs": [
        {
          "data": {
            "text/html": [
              "\n",
              "  <div id=\"df-3ee4e829-3af1-4bc4-a03d-81e334a3fe76\">\n",
              "    <div class=\"colab-df-container\">\n",
              "      <div>\n",
              "<style scoped>\n",
              "    .dataframe tbody tr th:only-of-type {\n",
              "        vertical-align: middle;\n",
              "    }\n",
              "\n",
              "    .dataframe tbody tr th {\n",
              "        vertical-align: top;\n",
              "    }\n",
              "\n",
              "    .dataframe thead th {\n",
              "        text-align: right;\n",
              "    }\n",
              "</style>\n",
              "<table border=\"1\" class=\"dataframe\">\n",
              "  <thead>\n",
              "    <tr style=\"text-align: right;\">\n",
              "      <th></th>\n",
              "      <th>y_true</th>\n",
              "      <th>prediksi_LinearRegression</th>\n",
              "    </tr>\n",
              "  </thead>\n",
              "  <tbody>\n",
              "    <tr>\n",
              "      <th>354</th>\n",
              "      <td>87000.0</td>\n",
              "      <td>81493.4</td>\n",
              "    </tr>\n",
              "  </tbody>\n",
              "</table>\n",
              "</div>\n",
              "      <button class=\"colab-df-convert\" onclick=\"convertToInteractive('df-3ee4e829-3af1-4bc4-a03d-81e334a3fe76')\"\n",
              "              title=\"Convert this dataframe to an interactive table.\"\n",
              "              style=\"display:none;\">\n",
              "        \n",
              "  <svg xmlns=\"http://www.w3.org/2000/svg\" height=\"24px\"viewBox=\"0 0 24 24\"\n",
              "       width=\"24px\">\n",
              "    <path d=\"M0 0h24v24H0V0z\" fill=\"none\"/>\n",
              "    <path d=\"M18.56 5.44l.94 2.06.94-2.06 2.06-.94-2.06-.94-.94-2.06-.94 2.06-2.06.94zm-11 1L8.5 8.5l.94-2.06 2.06-.94-2.06-.94L8.5 2.5l-.94 2.06-2.06.94zm10 10l.94 2.06.94-2.06 2.06-.94-2.06-.94-.94-2.06-.94 2.06-2.06.94z\"/><path d=\"M17.41 7.96l-1.37-1.37c-.4-.4-.92-.59-1.43-.59-.52 0-1.04.2-1.43.59L10.3 9.45l-7.72 7.72c-.78.78-.78 2.05 0 2.83L4 21.41c.39.39.9.59 1.41.59.51 0 1.02-.2 1.41-.59l7.78-7.78 2.81-2.81c.8-.78.8-2.07 0-2.86zM5.41 20L4 18.59l7.72-7.72 1.47 1.35L5.41 20z\"/>\n",
              "  </svg>\n",
              "      </button>\n",
              "      \n",
              "  <style>\n",
              "    .colab-df-container {\n",
              "      display:flex;\n",
              "      flex-wrap:wrap;\n",
              "      gap: 12px;\n",
              "    }\n",
              "\n",
              "    .colab-df-convert {\n",
              "      background-color: #E8F0FE;\n",
              "      border: none;\n",
              "      border-radius: 50%;\n",
              "      cursor: pointer;\n",
              "      display: none;\n",
              "      fill: #1967D2;\n",
              "      height: 32px;\n",
              "      padding: 0 0 0 0;\n",
              "      width: 32px;\n",
              "    }\n",
              "\n",
              "    .colab-df-convert:hover {\n",
              "      background-color: #E2EBFA;\n",
              "      box-shadow: 0px 1px 2px rgba(60, 64, 67, 0.3), 0px 1px 3px 1px rgba(60, 64, 67, 0.15);\n",
              "      fill: #174EA6;\n",
              "    }\n",
              "\n",
              "    [theme=dark] .colab-df-convert {\n",
              "      background-color: #3B4455;\n",
              "      fill: #D2E3FC;\n",
              "    }\n",
              "\n",
              "    [theme=dark] .colab-df-convert:hover {\n",
              "      background-color: #434B5C;\n",
              "      box-shadow: 0px 1px 3px 1px rgba(0, 0, 0, 0.15);\n",
              "      filter: drop-shadow(0px 1px 2px rgba(0, 0, 0, 0.3));\n",
              "      fill: #FFFFFF;\n",
              "    }\n",
              "  </style>\n",
              "\n",
              "      <script>\n",
              "        const buttonEl =\n",
              "          document.querySelector('#df-3ee4e829-3af1-4bc4-a03d-81e334a3fe76 button.colab-df-convert');\n",
              "        buttonEl.style.display =\n",
              "          google.colab.kernel.accessAllowed ? 'block' : 'none';\n",
              "\n",
              "        async function convertToInteractive(key) {\n",
              "          const element = document.querySelector('#df-3ee4e829-3af1-4bc4-a03d-81e334a3fe76');\n",
              "          const dataTable =\n",
              "            await google.colab.kernel.invokeFunction('convertToInteractive',\n",
              "                                                     [key], {});\n",
              "          if (!dataTable) return;\n",
              "\n",
              "          const docLinkHtml = 'Like what you see? Visit the ' +\n",
              "            '<a target=\"_blank\" href=https://colab.research.google.com/notebooks/data_table.ipynb>data table notebook</a>'\n",
              "            + ' to learn more about interactive tables.';\n",
              "          element.innerHTML = '';\n",
              "          dataTable['output_type'] = 'display_data';\n",
              "          await google.colab.output.renderOutput(dataTable, element);\n",
              "          const docLink = document.createElement('div');\n",
              "          docLink.innerHTML = docLinkHtml;\n",
              "          element.appendChild(docLink);\n",
              "        }\n",
              "      </script>\n",
              "    </div>\n",
              "  </div>\n",
              "  "
            ],
            "text/plain": [
              "      y_true  prediksi_LinearRegression\n",
              "354  87000.0                    81493.4"
            ]
          },
          "execution_count": 24,
          "metadata": {},
          "output_type": "execute_result"
        }
      ],
      "source": [
        "# Melakukan prediksi menggunakan model yang telah dilatih\n",
        "sample_data = X_test.iloc[2:3].copy()  # Mengambil satu sampel dari data uji untuk prediksi\n",
        "hasil_prediksi = {'y_true': y_test[2:3].values[0]}  # Menyimpan nilai sebenarnya dari target\n",
        "\n",
        "# Melakukan prediksi untuk setiap model yang ada dalam kamus model\n",
        "for model_name, model_instance in model_dictionary.items():\n",
        "    hasil_prediksi['prediksi_' + model_name] = model_instance.predict(sample_data).round(1)  # Menyimpan hasil prediksi dan membulatkannya\n",
        "\n",
        "# Mengonversi hasil prediksi menjadi DataFrame untuk tampilan yang lebih baik\n",
        "prediksi_df = pd.DataFrame(hasil_prediksi)  # Membuat DataFrame dari hasil prediksi\n",
        "prediksi_df  # Menampilkan DataFrame yang berisi nilai sebenarnya dan prediksi"
      ]
    },
    {
      "cell_type": "markdown",
      "metadata": {
        "id": "SiopeGBaLl0c"
      },
      "source": [
        "## **6. Improvement**"
      ]
    },
    {
      "cell_type": "markdown",
      "metadata": {
        "id": "jVauRe87L0bx"
      },
      "source": [
        "Karena hasil prediksi dari algoritma Linear Regression masih belum memadai dibandingkan dengan nilai aktual, tahap berikutnya adalah melakukan perbandingan dengan algoritma lain, yaitu Random Forest."
      ]
    },
    {
      "cell_type": "markdown",
      "metadata": {
        "id": "pdN1dDW1O30W"
      },
      "source": [
        "### 6.1 Membuat Model dengan Algoritma RandomForest"
      ]
    },
    {
      "cell_type": "code",
      "execution_count": 25,
      "metadata": {
        "id": "78d1frCfcnYU"
      },
      "outputs": [],
      "source": [
        "# Menginisialisasi model Random Forest untuk prediksi\n",
        "model_rf = RandomForestRegressor(n_estimators=50, max_depth=16, random_state=55, n_jobs=-1)  # Membuat objek RandomForestRegressor dengan parameter yang ditentukan\n",
        "\n",
        "# Melatih model menggunakan data pelatihan\n",
        "model_rf.fit(X_train, y_train)  # Melakukan fitting model dengan data fitur dan target\n",
        "\n",
        "# Menghitung Mean Squared Error (MSE) untuk data pelatihan dan menyimpannya dalam DataFrame\n",
        "mse_train_rf = mean_squared_error(y_true=y_train, y_pred=model_rf.predict(X_train))  # Menghitung MSE untuk data pelatihan\n",
        "models.loc['train_mse', 'RandomForest'] = mse_train_rf  # Menyimpan nilai MSE ke dalam DataFrame"
      ]
    },
    {
      "cell_type": "markdown",
      "metadata": {
        "id": "eW_x3yorpYSj"
      },
      "source": [
        "### 6.2 Membandingkan Hasil Evaluasi Dari Kedua Model Menggunakan Metrik MSE"
      ]
    },
    {
      "cell_type": "code",
      "execution_count": 26,
      "metadata": {
        "colab": {
          "base_uri": "https://localhost:8080/",
          "height": 112
        },
        "id": "ygf_wvMnMMw0",
        "outputId": "da4cd5e7-2215-43db-f948-7edb0732f47f"
      },
      "outputs": [
        {
          "data": {
            "text/html": [
              "\n",
              "  <div id=\"df-97d2d909-b376-4a3f-831d-8955c4c8dc80\">\n",
              "    <div class=\"colab-df-container\">\n",
              "      <div>\n",
              "<style scoped>\n",
              "    .dataframe tbody tr th:only-of-type {\n",
              "        vertical-align: middle;\n",
              "    }\n",
              "\n",
              "    .dataframe tbody tr th {\n",
              "        vertical-align: top;\n",
              "    }\n",
              "\n",
              "    .dataframe thead th {\n",
              "        text-align: right;\n",
              "    }\n",
              "</style>\n",
              "<table border=\"1\" class=\"dataframe\">\n",
              "  <thead>\n",
              "    <tr style=\"text-align: right;\">\n",
              "      <th></th>\n",
              "      <th>train</th>\n",
              "      <th>test</th>\n",
              "    </tr>\n",
              "  </thead>\n",
              "  <tbody>\n",
              "    <tr>\n",
              "      <th>LinearRegression</th>\n",
              "      <td>113458.095232</td>\n",
              "      <td>127004.94334</td>\n",
              "    </tr>\n",
              "    <tr>\n",
              "      <th>RandomForest</th>\n",
              "      <td>13235.129443</td>\n",
              "      <td>15922.675464</td>\n",
              "    </tr>\n",
              "  </tbody>\n",
              "</table>\n",
              "</div>\n",
              "      <button class=\"colab-df-convert\" onclick=\"convertToInteractive('df-97d2d909-b376-4a3f-831d-8955c4c8dc80')\"\n",
              "              title=\"Convert this dataframe to an interactive table.\"\n",
              "              style=\"display:none;\">\n",
              "        \n",
              "  <svg xmlns=\"http://www.w3.org/2000/svg\" height=\"24px\"viewBox=\"0 0 24 24\"\n",
              "       width=\"24px\">\n",
              "    <path d=\"M0 0h24v24H0V0z\" fill=\"none\"/>\n",
              "    <path d=\"M18.56 5.44l.94 2.06.94-2.06 2.06-.94-2.06-.94-.94-2.06-.94 2.06-2.06.94zm-11 1L8.5 8.5l.94-2.06 2.06-.94-2.06-.94L8.5 2.5l-.94 2.06-2.06.94zm10 10l.94 2.06.94-2.06 2.06-.94-2.06-.94-.94-2.06-.94 2.06-2.06.94z\"/><path d=\"M17.41 7.96l-1.37-1.37c-.4-.4-.92-.59-1.43-.59-.52 0-1.04.2-1.43.59L10.3 9.45l-7.72 7.72c-.78.78-.78 2.05 0 2.83L4 21.41c.39.39.9.59 1.41.59.51 0 1.02-.2 1.41-.59l7.78-7.78 2.81-2.81c.8-.78.8-2.07 0-2.86zM5.41 20L4 18.59l7.72-7.72 1.47 1.35L5.41 20z\"/>\n",
              "  </svg>\n",
              "      </button>\n",
              "      \n",
              "  <style>\n",
              "    .colab-df-container {\n",
              "      display:flex;\n",
              "      flex-wrap:wrap;\n",
              "      gap: 12px;\n",
              "    }\n",
              "\n",
              "    .colab-df-convert {\n",
              "      background-color: #E8F0FE;\n",
              "      border: none;\n",
              "      border-radius: 50%;\n",
              "      cursor: pointer;\n",
              "      display: none;\n",
              "      fill: #1967D2;\n",
              "      height: 32px;\n",
              "      padding: 0 0 0 0;\n",
              "      width: 32px;\n",
              "    }\n",
              "\n",
              "    .colab-df-convert:hover {\n",
              "      background-color: #E2EBFA;\n",
              "      box-shadow: 0px 1px 2px rgba(60, 64, 67, 0.3), 0px 1px 3px 1px rgba(60, 64, 67, 0.15);\n",
              "      fill: #174EA6;\n",
              "    }\n",
              "\n",
              "    [theme=dark] .colab-df-convert {\n",
              "      background-color: #3B4455;\n",
              "      fill: #D2E3FC;\n",
              "    }\n",
              "\n",
              "    [theme=dark] .colab-df-convert:hover {\n",
              "      background-color: #434B5C;\n",
              "      box-shadow: 0px 1px 3px 1px rgba(0, 0, 0, 0.15);\n",
              "      filter: drop-shadow(0px 1px 2px rgba(0, 0, 0, 0.3));\n",
              "      fill: #FFFFFF;\n",
              "    }\n",
              "  </style>\n",
              "\n",
              "      <script>\n",
              "        const buttonEl =\n",
              "          document.querySelector('#df-97d2d909-b376-4a3f-831d-8955c4c8dc80 button.colab-df-convert');\n",
              "        buttonEl.style.display =\n",
              "          google.colab.kernel.accessAllowed ? 'block' : 'none';\n",
              "\n",
              "        async function convertToInteractive(key) {\n",
              "          const element = document.querySelector('#df-97d2d909-b376-4a3f-831d-8955c4c8dc80');\n",
              "          const dataTable =\n",
              "            await google.colab.kernel.invokeFunction('convertToInteractive',\n",
              "                                                     [key], {});\n",
              "          if (!dataTable) return;\n",
              "\n",
              "          const docLinkHtml = 'Like what you see? Visit the ' +\n",
              "            '<a target=\"_blank\" href=https://colab.research.google.com/notebooks/data_table.ipynb>data table notebook</a>'\n",
              "            + ' to learn more about interactive tables.';\n",
              "          element.innerHTML = '';\n",
              "          dataTable['output_type'] = 'display_data';\n",
              "          await google.colab.output.renderOutput(dataTable, element);\n",
              "          const docLink = document.createElement('div');\n",
              "          docLink.innerHTML = docLinkHtml;\n",
              "          element.appendChild(docLink);\n",
              "        }\n",
              "      </script>\n",
              "    </div>\n",
              "  </div>\n",
              "  "
            ],
            "text/plain": [
              "                          train          test\n",
              "LinearRegression  113458.095232  127004.94334\n",
              "RandomForest       13235.129443  15922.675464"
            ]
          },
          "execution_count": 26,
          "metadata": {},
          "output_type": "execute_result"
        }
      ],
      "source": [
        "# Membuat DataFrame untuk menyimpan nilai Mean Squared Error (MSE) dari model yang berbeda\n",
        "mse_scores = pd.DataFrame(columns=['train', 'test'], index=['LinearRegression', 'RandomForest'])  # Menentukan kolom dan indeks untuk MSE\n",
        "\n",
        "# Membuat kamus untuk menyimpan model yang digunakan\n",
        "model_dictionary = {'LinearRegression': model_lr, 'RandomForest': model_rf}  # Menyimpan model dalam kamus\n",
        "\n",
        "# Menghitung MSE untuk setiap model pada data pelatihan dan pengujian\n",
        "for model_name, model_instance in model_dictionary.items():\n",
        "    mse_scores.loc[model_name, 'train'] = mean_squared_error(y_true=y_train, y_pred=model_instance.predict(X_train)) / 1e3  # MSE untuk data pelatihan\n",
        "    mse_scores.loc[model_name, 'test'] = mean_squared_error(y_true=y_test, y_pred=model_instance.predict(X_test)) / 1e3  # MSE untuk data pengujian\n",
        "\n",
        "# Menampilkan DataFrame yang berisi nilai MSE untuk perbandingan model\n",
        "mse_scores  # Memanggil DataFrame untuk melihat hasil MSE"
      ]
    },
    {
      "cell_type": "code",
      "execution_count": 27,
      "metadata": {
        "colab": {
          "base_uri": "https://localhost:8080/",
          "height": 265
        },
        "id": "DWZrLhnGMe48",
        "outputId": "bcb60659-f789-44df-c0f1-e480df3ba61c"
      },
      "outputs": [
        {
          "data": {
            "image/png": "[encoded data removed]",
            "text/plain": [
              "<Figure size 432x288 with 1 Axes>"
            ]
          },
          "metadata": {
            "needs_background": "light"
          },
          "output_type": "display_data"
        }
      ],
      "source": [
        "# Membuat visualisasi untuk membandingkan metrik MSE\n",
        "figura, sumbu = plt.subplots()  # Membuat objek figure dan axes untuk plot\n",
        "mse_scores.sort_values(by='test', ascending=False).plot(kind='barh', ax=sumbu, zorder=3)  # Mengurutkan dan memplot MSE untuk data uji dalam bentuk grafik batang horizontal\n",
        "sumbu.grid(zorder=0)  # Menambahkan grid pada sumbu dengan z-order lebih rendah agar tidak menutupi plot\n",
        "plt.title('Perbandingan Mean Squared Error (MSE) pada Data Uji')  # Menambahkan judul pada plot\n",
        "plt.xlabel('MSE')  # Menambahkan label pada sumbu x\n",
        "plt.ylabel('Model')  # Menambahkan label pada sumbu y\n",
        "plt.show()  # Menampilkan plot"
      ]
    },
    {
      "cell_type": "markdown",
      "metadata": {
        "id": "W-XtB4POptgG"
      },
      "source": [
        "### 6.2 Melakukan Pengujian Dari Kedua Model"
      ]
    },
    {
      "cell_type": "code",
      "execution_count": 28,
      "metadata": {
        "colab": {
          "base_uri": "https://localhost:8080/",
          "height": 81
        },
        "id": "FEqdR3-8Mo_d",
        "outputId": "a0be9de4-5516-4b40-c53c-e847dd036054"
      },
      "outputs": [
        {
          "data": {
            "text/html": [
              "\n",
              "  <div id=\"df-4ee35304-3240-455f-9ed4-05a5597814b0\">\n",
              "    <div class=\"colab-df-container\">\n",
              "      <div>\n",
              "<style scoped>\n",
              "    .dataframe tbody tr th:only-of-type {\n",
              "        vertical-align: middle;\n",
              "    }\n",
              "\n",
              "    .dataframe tbody tr th {\n",
              "        vertical-align: top;\n",
              "    }\n",
              "\n",
              "    .dataframe thead th {\n",
              "        text-align: right;\n",
              "    }\n",
              "</style>\n",
              "<table border=\"1\" class=\"dataframe\">\n",
              "  <thead>\n",
              "    <tr style=\"text-align: right;\">\n",
              "      <th></th>\n",
              "      <th>y_true</th>\n",
              "      <th>prediksi_LinearRegression</th>\n",
              "      <th>prediksi_RandomForest</th>\n",
              "    </tr>\n",
              "  </thead>\n",
              "  <tbody>\n",
              "    <tr>\n",
              "      <th>354</th>\n",
              "      <td>87000.0</td>\n",
              "      <td>81493.4</td>\n",
              "      <td>87768.2</td>\n",
              "    </tr>\n",
              "  </tbody>\n",
              "</table>\n",
              "</div>\n",
              "      <button class=\"colab-df-convert\" onclick=\"convertToInteractive('df-4ee35304-3240-455f-9ed4-05a5597814b0')\"\n",
              "              title=\"Convert this dataframe to an interactive table.\"\n",
              "              style=\"display:none;\">\n",
              "        \n",
              "  <svg xmlns=\"http://www.w3.org/2000/svg\" height=\"24px\"viewBox=\"0 0 24 24\"\n",
              "       width=\"24px\">\n",
              "    <path d=\"M0 0h24v24H0V0z\" fill=\"none\"/>\n",
              "    <path d=\"M18.56 5.44l.94 2.06.94-2.06 2.06-.94-2.06-.94-.94-2.06-.94 2.06-2.06.94zm-11 1L8.5 8.5l.94-2.06 2.06-.94-2.06-.94L8.5 2.5l-.94 2.06-2.06.94zm10 10l.94 2.06.94-2.06 2.06-.94-2.06-.94-.94-2.06-.94 2.06-2.06.94z\"/><path d=\"M17.41 7.96l-1.37-1.37c-.4-.4-.92-.59-1.43-.59-.52 0-1.04.2-1.43.59L10.3 9.45l-7.72 7.72c-.78.78-.78 2.05 0 2.83L4 21.41c.39.39.9.59 1.41.59.51 0 1.02-.2 1.41-.59l7.78-7.78 2.81-2.81c.8-.78.8-2.07 0-2.86zM5.41 20L4 18.59l7.72-7.72 1.47 1.35L5.41 20z\"/>\n",
              "  </svg>\n",
              "      </button>\n",
              "      \n",
              "  <style>\n",
              "    .colab-df-container {\n",
              "      display:flex;\n",
              "      flex-wrap:wrap;\n",
              "      gap: 12px;\n",
              "    }\n",
              "\n",
              "    .colab-df-convert {\n",
              "      background-color: #E8F0FE;\n",
              "      border: none;\n",
              "      border-radius: 50%;\n",
              "      cursor: pointer;\n",
              "      display: none;\n",
              "      fill: #1967D2;\n",
              "      height: 32px;\n",
              "      padding: 0 0 0 0;\n",
              "      width: 32px;\n",
              "    }\n",
              "\n",
              "    .colab-df-convert:hover {\n",
              "      background-color: #E2EBFA;\n",
              "      box-shadow: 0px 1px 2px rgba(60, 64, 67, 0.3), 0px 1px 3px 1px rgba(60, 64, 67, 0.15);\n",
              "      fill: #174EA6;\n",
              "    }\n",
              "\n",
              "    [theme=dark] .colab-df-convert {\n",
              "      background-color: #3B4455;\n",
              "      fill: #D2E3FC;\n",
              "    }\n",
              "\n",
              "    [theme=dark] .colab-df-convert:hover {\n",
              "      background-color: #434B5C;\n",
              "      box-shadow: 0px 1px 3px 1px rgba(0, 0, 0, 0.15);\n",
              "      filter: drop-shadow(0px 1px 2px rgba(0, 0, 0, 0.3));\n",
              "      fill: #FFFFFF;\n",
              "    }\n",
              "  </style>\n",
              "\n",
              "      <script>\n",
              "        const buttonEl =\n",
              "          document.querySelector('#df-4ee35304-3240-455f-9ed4-05a5597814b0 button.colab-df-convert');\n",
              "        buttonEl.style.display =\n",
              "          google.colab.kernel.accessAllowed ? 'block' : 'none';\n",
              "\n",
              "        async function convertToInteractive(key) {\n",
              "          const element = document.querySelector('#df-4ee35304-3240-455f-9ed4-05a5597814b0');\n",
              "          const dataTable =\n",
              "            await google.colab.kernel.invokeFunction('convertToInteractive',\n",
              "                                                     [key], {});\n",
              "          if (!dataTable) return;\n",
              "\n",
              "          const docLinkHtml = 'Like what you see? Visit the ' +\n",
              "            '<a target=\"_blank\" href=https://colab.research.google.com/notebooks/data_table.ipynb>data table notebook</a>'\n",
              "            + ' to learn more about interactive tables.';\n",
              "          element.innerHTML = '';\n",
              "          dataTable['output_type'] = 'display_data';\n",
              "          await google.colab.output.renderOutput(dataTable, element);\n",
              "          const docLink = document.createElement('div');\n",
              "          docLink.innerHTML = docLinkHtml;\n",
              "          element.appendChild(docLink);\n",
              "        }\n",
              "      </script>\n",
              "    </div>\n",
              "  </div>\n",
              "  "
            ],
            "text/plain": [
              "      y_true  prediksi_LinearRegression  prediksi_RandomForest\n",
              "354  87000.0                    81493.4                87768.2"
            ]
          },
          "execution_count": 28,
          "metadata": {},
          "output_type": "execute_result"
        }
      ],
      "source": [
        "# Mengatur visualisasi untuk metrik evaluasi model\n",
        "figura, sumbu = plt.subplots()  # Membuat objek figure dan axes untuk plot\n",
        "mse_data.sort_values(by='test', ascending=False).plot(kind='barh', ax=sumbu, zorder=3)  # Mengurutkan dan memplot MSE untuk data uji dalam bentuk grafik batang horizontal\n",
        "sumbu.grid(zorder=0)  # Menambahkan grid pada sumbu dengan z-order lebih rendah agar tidak menutupi plot\n",
        "plt.title('Perbandingan Metrik Mean Squared Error (MSE)')  # Menambahkan judul pada plot\n",
        "plt.xlabel('Nilai MSE')  # Menambahkan label pada sumbu x\n",
        "plt.ylabel('Nama Model')  # Menambahkan label pada sumbu y\n",
        "plt.show()  # Menampilkan plot"
      ]
    }
  ],
  "metadata": {
    "colab": {
      "provenance": []
    },
    "kernelspec": {
      "display_name": "Python 3",
      "name": "python3"
    },
    "language_info": {
      "name": "python"
    }
  },
  "nbformat": 4,
  "nbformat_minor": 0
}
